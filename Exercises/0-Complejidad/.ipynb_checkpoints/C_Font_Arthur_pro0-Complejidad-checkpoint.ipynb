{
 "cells": [
  {
   "cell_type": "markdown",
   "metadata": {},
   "source": [
    "<div style=\"padding:30px; color: white; background-color: #0071CD\">\n",
    "<center>\n",
    "<img src=\"img/logoub.jpeg\"></img>\n",
    "<center>\n",
    "<p>\n",
    "<h1>Algorítmica Avanzada</h1>\n",
    "<h2>Problemas 0 - Notación asintótica </h2>\n",
    "</center>\n",
    "</p>\n",
    "</div>"
   ]
  },
  {
   "cell_type": "markdown",
   "metadata": {},
   "source": [
    "## Notación"
   ]
  },
  {
   "cell_type": "markdown",
   "metadata": {},
   "source": [
    "A lo largo de este notebook veremos los conceptos básicos de notación asintótica que nos servirán para definir la complejidad de nuestros algoritmos.\n",
    "\n",
    "Para ello utilizaremos los siguientes símbolos\n",
    "\n",
    "- $\\Theta$ (Theta)\n",
    "- $O$, $o$ (Omicron)\n",
    "- $\\Omega$ (Omega)\n"
   ]
  },
  {
   "cell_type": "markdown",
   "metadata": {},
   "source": [
    "Pero, cómo definimos la complejidad de un algoritmo? Tienen los siguientes tres algoritmos la misma complejidad?"
   ]
  },
  {
   "cell_type": "code",
   "execution_count": null,
   "metadata": {},
   "outputs": [],
   "source": [
    "def alga(i):\n",
    "    return i\n",
    "    \n",
    "def algb(i):\n",
    "    total = 0\n",
    "    for m in i:\n",
    "        total+=m\n",
    "    return total\n",
    "\n",
    "def algc(i):\n",
    "    total=0\n",
    "    for m in i:\n",
    "        for j in i:\n",
    "            total+=m+j\n",
    "    return total\n",
    "            \n",
    "            \n",
    "import random\n",
    "\n",
    "# Crea una lista de valores aleatorios\n",
    "_list = random.sample(range(30), 4)\n",
    "\n",
    "\n",
    "\n",
    "print(alga(_list))\n",
    "print(algb(_list))\n",
    "print(algc(_list))"
   ]
  },
  {
   "cell_type": "markdown",
   "metadata": {},
   "source": [
    "Comprobemos el tiempo de ejecución de cada uno de los algoritmos"
   ]
  },
  {
   "cell_type": "code",
   "execution_count": null,
   "metadata": {},
   "outputs": [],
   "source": [
    "%timeit alga(_list)\n",
    "%timeit algb(_list)\n",
    "%timeit algc(_list)"
   ]
  },
  {
   "cell_type": "markdown",
   "metadata": {},
   "source": [
    "<div class=\"alert alert-warning\">\n",
    "<h1>Pregunta 1</h1>\n",
    "<p><strong>\n",
    "Qué complejidad tienen las funciones _alga_, _algb_ y _algc_ notándolas como $\\Theta, O, \\Omega$?\n",
    "</strong></p>\n",
    "<p>\n",
    "Recordatorio:\n",
    "<ul>\n",
    "<li>$o(n)$: Crecimiento menor a $n$</li>\n",
    "<li>$O(n)$: Crecimiento menor o igual a $n$</li>\n",
    "<li>$\\Theta(n)$: Crecimiento igual a $n$</li>\n",
    "<li>$\\Omega(n)$: Crecimiento igual o superior a $n$</li>\n",
    "</ul>\n",
    "</p>\n",
    "</div>"
   ]
  },
  {
   "cell_type": "code",
   "execution_count": null,
   "metadata": {},
   "outputs": [],
   "source": [
    "''' O(alga(n)) = 1 \n",
    "    Θ(alga(𝑛)) = 1\n",
    "    Ω(alga(𝑛)) = 1 '''\n",
    "'''\n",
    "    O(algb(n)) = n + 1 + 1 = n\n",
    "    Θ(algb(𝑛)) = n + 1 + 1 = n\n",
    "    Ω(algb(𝑛)) = 1 '''\n",
    "''' \n",
    "    O(algc(n)) = n (n+1) + 1 = n²\n",
    "    Θ(algc(𝑛)) = n (n+1) + 1 = n²\n",
    "    Ω(algc(𝑛)) = 1 '''"
   ]
  },
  {
   "cell_type": "markdown",
   "metadata": {},
   "source": []
  },
  {
   "cell_type": "code",
   "execution_count": null,
   "metadata": {},
   "outputs": [],
   "source": [
    "def sumapares(lista, listb):\n",
    "    listc = []\n",
    "    for x in lista:\n",
    "        for y in listb:\n",
    "            listc.append(x+y)\n",
    "    return listc\n",
    "\n",
    "sumapares([1,2,3],[4,5,6])"
   ]
  },
  {
   "cell_type": "markdown",
   "metadata": {},
   "source": [
    "<div class=\"alert alert-warning\">\n",
    "<h1>Pregunta 2</h1>\n",
    "<p><strong>\n",
    "Qué complejidad tiene la función $sumapares$?\n",
    "</strong></p>\n",
    "</div>"
   ]
  },
  {
   "cell_type": "code",
   "execution_count": null,
   "metadata": {},
   "outputs": [],
   "source": [
    "''' n = lista ; m = listb\n",
    "    O(sumapares(n,m) = n (m+1) + n = nm\n",
    "    Θ(sumapares(𝑛,m)) = n (m+1) + n = nm\n",
    "    Ω(sumapares(𝑛,m)) = 1 '''\n",
    "'''"
   ]
  },
  {
   "cell_type": "markdown",
   "metadata": {},
   "source": []
  },
  {
   "cell_type": "markdown",
   "metadata": {},
   "source": [
    "## Orden de magnitud\n",
    "\n",
    "Normalmente las operaciones de coste constante $O(1)$ las menospreciamos y analizamos la complejidad en base al orden de magnitud, por lo que una función cuya complejidad exacta fuere $O(3x^2+6)$ la denotarmemos como $O(3x^2)$."
   ]
  },
  {
   "cell_type": "markdown",
   "metadata": {},
   "source": [
    "<div class=\"alert alert-danger\">\n",
    "<h1>Problema 1</h1>\n",
    "<p><strong>\n",
    "Implementa algoritmos que tengan las complejidades siguientes: <ul><li>$O(1)$</li><li>$O(n)$</li><li>$O(n^2)$</li><li>$O(log(n))$</li><li>$O(2^n)$</li><li>$O(n!)$</li></ul>\n",
    "\n",
    "</strong></p>\n",
    "<p><b>Nota: </b> Puedes cambiar la declaración de las funciones si lo consideras necesario.</p>\n",
    "</div>"
   ]
  },
  {
   "cell_type": "code",
   "execution_count": null,
   "metadata": {},
   "outputs": [],
   "source": [
    "def o(a):\n",
    "    return a[0];\n",
    "    pass\n",
    "o([1,2,3])"
   ]
  },
  {
   "cell_type": "code",
   "execution_count": null,
   "metadata": {},
   "outputs": [],
   "source": [
    "def on(a):\n",
    "    for i in a:\n",
    "        print(i,end = \" \")\n",
    "    pass\n",
    "on([1,2,3])"
   ]
  },
  {
   "cell_type": "code",
   "execution_count": null,
   "metadata": {},
   "outputs": [],
   "source": [
    "def onsquare(a):\n",
    "    for i in a:\n",
    "        print(i, end = \"\")\n",
    "        j = 0;\n",
    "        print(\"(\", end = \"\")\n",
    "        for j in a:\n",
    "            ++j\n",
    "            print(j, end = \"\")\n",
    "        print(\")\", end = \" \")\n",
    "    pass\n",
    "onsquare([1,2,3])"
   ]
  },
  {
   "cell_type": "code",
   "execution_count": null,
   "metadata": {},
   "outputs": [],
   "source": [
    "def olognBinarySearch(arr, l, r, x):\n",
    "    # Base case \n",
    "    if r >= l: \n",
    "        mid = l + (r - l)//2\n",
    "        # If element is present at the middle itself \n",
    "        if arr[mid] == x: \n",
    "            return mid \n",
    "          \n",
    "        # If element is smaller than mid\n",
    "        elif arr[mid] > x: \n",
    "            return olognBinarySearch(arr, l, mid-1, x) \n",
    "        \n",
    "        # Else element is bigger than mid\n",
    "        else: \n",
    "            return olognBinarySearch(arr, mid+1, r, x) \n",
    "        \n",
    "    # Element is not present in the array    \n",
    "    else:\n",
    "        return -1\n",
    "    pass\n",
    "arr = [0,1,2,3,4,5,6,7,8,9]\n",
    "olognBinarySearch(arr, 0, len(arr)-1, 8)"
   ]
  },
  {
   "cell_type": "code",
   "execution_count": 1,
   "metadata": {
    "scrolled": true
   },
   "outputs": [
    {
     "name": "stdout",
     "output_type": "stream",
     "text": [
      "Move disk 1 from rod A to rod C\n",
      "Move disk 2 from rod A to rod B\n",
      "Move disk 1 from rod C to rod B\n",
      "Move disk 3 from rod A to rod C\n",
      "Move disk 1 from rod B to rod A\n",
      "Move disk 2 from rod B to rod C\n",
      "Move disk 1 from rod A to rod C\n"
     ]
    }
   ],
   "source": [
    "def oexpnTowerOfHanoi(n , from_rod, to_rod, aux_rod):\n",
    "    if n == 1: \n",
    "        print(\"Move disk 1 from rod\",from_rod,\"to rod\",to_rod)\n",
    "        return\n",
    "    oexpnTowerOfHanoi(n-1, from_rod, aux_rod, to_rod) \n",
    "    print(\"Move disk\",n,\"from rod\",from_rod,\"to rod\",to_rod)\n",
    "    oexpnTowerOfHanoi(n-1, aux_rod, to_rod, from_rod) \n",
    "    pass\n",
    "\n",
    "n = 3\n",
    "oexpnTowerOfHanoi(n, 'A', 'C', 'B')"
   ]
  },
  {
   "cell_type": "code",
   "execution_count": null,
   "metadata": {},
   "outputs": [],
   "source": [
    "def oexpn(a): # tots subconjunts\n",
    "    if len(a) == 2:\n",
    "        return [a[0],a[1],a]\n",
    "    elif len(a) == 1:\n",
    "        return a\n",
    "    else:\n",
    "        sub_lists = oexpn(a[1:])\n",
    "        new_sub_lists = [[a[0]] + k for k in sub_lists]\n",
    "        return [a[0] + sub_lists + new_sub_lists]"
   ]
  },
  {
   "cell_type": "code",
   "execution_count": null,
   "metadata": {},
   "outputs": [],
   "source": [
    "def onfact(a):\n",
    "    fact = 1\n",
    "    for i in range(1,a+1): \n",
    "        fact = fact * i \n",
    "    print(\"The factorial of\", a, \"is:\",fact)\n",
    "    pass\n",
    "onfact(5)"
   ]
  },
  {
   "cell_type": "code",
   "execution_count": null,
   "metadata": {},
   "outputs": [],
   "source": [
    "def onfact(a): # all possible permutations of a list\n",
    "    combinations = []\n",
    "    if len(a) == 2:\n",
    "        return [a,a[::-1]]\n",
    "    elif len(a) == 1:\n",
    "        return [a]\n",
    "    else:\n",
    "        for i in range(len(a)):\n",
    "            first = a[i]\n",
    "            rest = a[0:i] + a[i+1:]\n",
    "            for pos_comb in onfact(rest):\n",
    "                combinations.append(first + pos_comb)\n",
    "    return combinations"
   ]
  },
  {
   "cell_type": "markdown",
   "metadata": {},
   "source": [
    "<div class=\"alert alert-warning\">\n",
    "<h1>Pregunta 3</h1>\n",
    "<p><strong>\n",
    "Evalua la complejidad exacta de cada uno de los algoritmos anteriores\n",
    "</strong></p>\n",
    "</div>"
   ]
  },
  {
   "cell_type": "code",
   "execution_count": null,
   "metadata": {},
   "outputs": [],
   "source": [
    "''' \n",
    "    O(o(a)) = 1\n",
    "    Θ(o(a)) = 1\n",
    "    Ω(o(a)) = 1\n",
    "'''\n",
    "''' \n",
    "    O(on(a)) = a\n",
    "    Θ(on(a)) = a\n",
    "    Ω(on(a)) = 1\n",
    "'''\n",
    "''' \n",
    "    O(onsquare(a)) = a\n",
    "    Θ(onsquare(a)) = a\n",
    "    Ω(onsquare(a)) = 1\n",
    "'''\n",
    "''' \n",
    "    O(olognBinarySearch(a)) = logn\n",
    "    Θ(olognBinarySearch(a)) = logn\n",
    "    Ω(olognBinarySearch(a)) = 1\n",
    "'''\n",
    "''' \n",
    "    O(oexpnTowerOfHanoi(a)) = 2^n\n",
    "    Θ(oexpnTowerOfHanoi(a)) = 2^n\n",
    "    Ω(oexpnTowerOfHanoi(a)) = 1\n",
    "'''\n",
    "''' \n",
    "    O(onfact(a)) = n!\n",
    "    Θ(onfact(a)) = n!\n",
    "    Ω(onfact(a)) = 1\n",
    "'''\n"
   ]
  },
  {
   "cell_type": "markdown",
   "metadata": {},
   "source": []
  },
  {
   "cell_type": "markdown",
   "metadata": {},
   "source": [
    "## Un ejemplo gráfico..."
   ]
  },
  {
   "cell_type": "code",
   "execution_count": null,
   "metadata": {},
   "outputs": [],
   "source": [
    "# En este apartado mostramos las gráficas de las diferentes funciones\n",
    "import matplotlib.pyplot as plt\n",
    "import numpy as np\n",
    "\n",
    "%matplotlib inline\n",
    "\n",
    "lin = np.linspace(0.1,10,100)\n",
    "plt.figure(figsize=(10,6))\n",
    "plt.title('Complejidades lineales y logaritmicas')\n",
    "plt.plot(np.log(lin),label='O(log(n))')\n",
    "plt.plot(lin*np.log(lin),label='O(n*log(n))')\n",
    "plt.plot(lin, linewidth=2, label='O(n)')\n",
    "plt.legend()\n",
    "plt.plot()\n",
    "plt.ylim(-1,10)\n",
    "plt.xticks([])\n",
    "plt.draw()"
   ]
  },
  {
   "cell_type": "code",
   "execution_count": null,
   "metadata": {},
   "outputs": [],
   "source": [
    "import matplotlib.pyplot as plt\n",
    "import numpy as np\n",
    "\n",
    "%matplotlib inline\n",
    "\n",
    "lin = np.linspace(0.1,20,500)\n",
    "plt.figure(figsize=(10,6))\n",
    "plt.title('Complejidades potenciales y exponenciales')\n",
    "plt.plot(lin**3,label='O(n^3)')\n",
    "plt.plot(lin**2,label='O(n^2)')\n",
    "plt.plot(2**lin, label='O(2^n)')\n",
    "plt.legend()\n",
    "plt.plot()\n",
    "plt.ylim(-1,5000)\n",
    "plt.xticks([])\n",
    "plt.draw()"
   ]
  },
  {
   "cell_type": "markdown",
   "metadata": {},
   "source": [
    "<div class=\"alert alert-danger\">\n",
    "<h1>Problema 2</h1>\n",
    "<p><strong>\n",
    "Implementa un algoritmo de ordenación que tenga complejidad $O(n^2)$\n",
    "</strong></p>\n",
    "</div>"
   ]
  },
  {
   "cell_type": "code",
   "execution_count": null,
   "metadata": {},
   "outputs": [],
   "source": [
    "def ordenacion1(arr): \n",
    "    n = len(arr) \n",
    "    for i in range(n): \n",
    "        swapped = False\n",
    "        for j in range(0, n-i-1): \n",
    "            if arr[j] > arr[j+1] : \n",
    "                arr[j], arr[j+1] = arr[j+1], arr[j] \n",
    "                swapped = True\n",
    "        if not swapped:\n",
    "            break\n",
    "    pass\n",
    "\n",
    "lista = [9,8,4,2,7,-4,3]\n",
    "ordenacion1(lista)\n",
    "print(lista)"
   ]
  },
  {
   "cell_type": "markdown",
   "metadata": {},
   "source": [
    "<div class=\"alert alert-danger\">\n",
    "<h1>Problema 3</h1>\n",
    "<p><strong>\n",
    "    Implementa un algoritmo de ordenación que tenga complejidad $O(n\\log(n))$\n",
    "</strong></p>\n",
    "</div>"
   ]
  },
  {
   "cell_type": "code",
   "execution_count": null,
   "metadata": {},
   "outputs": [],
   "source": [
    "def partition(A, first, last):\n",
    "    \"\"\"\n",
    "    Aquesta funció tria el valor mig entre l'element inicial, final i mig \n",
    "    d'una llista i l'ubica al lloc que li correspondrà quan la llista està \n",
    "    ordenada, alhora deixa a la seva esquerra valors menors i a la dreta\n",
    "    valors majors. Per tant altera A\n",
    "    A més retorna la posició de la partició\n",
    "    \"\"\"\n",
    "    mid = (first + last)//2  #ordenem A[first],A[mid],A[last]\n",
    "    if A[first] > A [mid]: A[first], A[mid] = A[mid], A[first]\n",
    "    if A[first] > A [last]: A[first], A[last] = A[last], A[first]\n",
    "    if A[mid] > A[last]:   A[mid], A[last] = A[last], A[mid]  \n",
    "    A[mid], A[first] = A[first], A[mid] #valor mig a l’inici\n",
    "    pivot = first\n",
    "    i = first + 1\n",
    "    j = last\n",
    "  \n",
    "    while True:\n",
    "        while i <= last and A[i] <= A[pivot]: i += 1\n",
    "        while j >= first and A[j] > A[pivot]: j -= 1\n",
    "        if i >= j: break\n",
    "        else:\n",
    "            A[i], A[j] = A[j], A[i] #intercanviem, fem avançar i j\n",
    "    A[j], A[pivot] = A[pivot], A[j] #vector partit, pivot=j\n",
    "    return j\n",
    "def ordenacion2(lista):\n",
    "    quick_sort_r(lista, 0, len(lista) - 1)\n",
    "\n",
    "def quick_sort_r(lista , first, last):\n",
    "    if last > first:\n",
    "        pivot = partition(lista, first, last)\n",
    "        quick_sort_r(lista, first, pivot - 1)\n",
    "        quick_sort_r(lista, pivot + 1, last)\n",
    "    pass\n",
    "lista = [9,8,4,2,7,-4,3]\n",
    "ordenacion2(lista)\n",
    "print(lista)"
   ]
  },
  {
   "cell_type": "markdown",
   "metadata": {},
   "source": [
    "<h3>Pon a prueba tus algoritmos</h3>\n",
    "<p>\n",
    "    El siguiente bloque de código ejecutará y medirá el coste de los dos algoritmos de ordenación que acabas de implementar. Las pruebas se harán para listas de tamaño creciente de longitud de 1 a #num_tests (por defecto 1000). Puede tardar un poco, si no termina puedes bajar la cantidad de tests. Si está todo bien deberías poder observar un coste creciente cuadrático en el caso $O(n^2)$ y un crecimiento logarítmico escaso en el caso de $O(n\\log(n))$.\n",
    "</p>"
   ]
  },
  {
   "cell_type": "code",
   "execution_count": null,
   "metadata": {},
   "outputs": [],
   "source": [
    "from utils import generate_corpus\n",
    "import time\n",
    "import matplotlib.pyplot as plt\n",
    "import numpy as np\n",
    "\n",
    "%matplotlib inline\n",
    "\n",
    "num_tests = 1000\n",
    "\n",
    "all_lists = generate_corpus(num_tests)\n",
    "time_costs_ordenacion1 = [0]*num_tests\n",
    "time_costs_ordenacion2 = [0]*num_tests\n",
    "\n",
    "for test in range(num_tests):\n",
    "    # Test ordenacion1\n",
    "    start_time = time.time()\n",
    "    ordenacion1(all_lists[test])\n",
    "    time_costs_ordenacion1[test] = (time.time() - start_time)\n",
    "    \n",
    "    # Test ordenacion2\n",
    "    start_time = time.time()\n",
    "    ordenacion2(all_lists[test])\n",
    "    time_costs_ordenacion2[test] = (time.time() - start_time) \n",
    "\n",
    "plt.figure(figsize=(10,6))\n",
    "plt.title('Comparativa costes ordenacion')\n",
    "plt.plot(time_costs_ordenacion1,label='O(n^2)')\n",
    "plt.plot(time_costs_ordenacion2,label='O(nlog(n))')\n",
    "plt.legend()\n",
    "plt.plot()\n",
    "plt.draw()"
   ]
  },
  {
   "cell_type": "markdown",
   "metadata": {},
   "source": [
    "## Algoritmos recursivos: Master Theorem\n",
    "\n",
    "El teorema master ayuda a definir las complejidades de los algoritmos que utilizan estratégias Divide and Conquer. Dicho de otra forma, nos ayuda a analizar la complejidad para los algoritmos recursivos.\n",
    "\n",
    "Siendo $T(n)$ la complejidad del algoritmo, $f(n)$ la complejidad del caso base, $a$ el número de subproblemas a cada nivel de recursión y $b$ el factor por el que dividimos la entrada, denotamos la complejidad de un algoritmo recursivo como:\n",
    "\n",
    "$$\n",
    "T(n) = aT\\big(\\frac{n}{b}\\big)+f(n)\n",
    "$$\n",
    "\n",
    "Si notamos la función $f(x)$ en base a su complejidad de la forma $O(n^d)$ obtenemos:\n",
    "\n",
    "$$\n",
    "T(n) = aT\\big(\\frac{n}{b}\\big)+O(n)\n",
    "$$\n",
    "\n",
    "Y según el teorema masters podemos afirmar que:\n",
    "\n",
    "\\begin{equation*}\n",
    "T(n)=O(n^d) \\quad \\textrm{if}\\: d>log_b a\\\\\n",
    "T(n)=O(n^d\\log n) \\quad \\textrm{if}\\: d=log_b a\\\\\n",
    "T(n)=O(n^{\\log_b{a}}) \\quad \\textrm{if}\\: d<log_b a\n",
    "\\end{equation*}"
   ]
  },
  {
   "cell_type": "markdown",
   "metadata": {},
   "source": [
    "<div class=\"alert alert-warning\">\n",
    "<h1>Pregunta 4</h1>\n",
    "<p><strong>\n",
    "Analiza la complejidad en la siguiente función:\n",
    "</strong></p>\n",
    "</div>"
   ]
  },
  {
   "cell_type": "code",
   "execution_count": null,
   "metadata": {},
   "outputs": [],
   "source": [
    "'''\n",
    "    O(reverse2n(a)) = logn\n",
    "    Θ(reverse2n(a)) = logn\n",
    "    Ω(reverse2n(a)) = 1\n",
    "'''"
   ]
  },
  {
   "cell_type": "code",
   "execution_count": null,
   "metadata": {},
   "outputs": [],
   "source": [
    "def reverse2n(lista):\n",
    "    if len(lista) == 2:\n",
    "        return [lista[1], lista[0]]\n",
    "    else:\n",
    "        p = int(len(lista)/2)\n",
    "        return reverse2n(lista[p:]) + reverse2n(lista[:p])\n",
    "\n",
    "reverse2n([1,2,3,5,8,10,4,6])"
   ]
  },
  {
   "cell_type": "markdown",
   "metadata": {
    "collapsed": true
   },
   "source": [
    "<div class=\"alert alert-success\">\n",
    "<h1>Extra 1</h1>\n",
    "<p><strong>\n",
    "Implementa dos algoritmos que busquen un nombre concreto en un listín telefónico y devuelvan su número. Uno con coste $O(n)$ y otro con $O(\\log n)$. En caso de no encontrar el nombre, devolver -1.\n",
    "</strong></p>\n",
    "</div>"
   ]
  },
  {
   "cell_type": "code",
   "execution_count": null,
   "metadata": {},
   "outputs": [],
   "source": [
    "def search(listin,name):\n",
    "    for i in listin:\n",
    "        if i[0] == name:\n",
    "            return i[1]\n",
    "    return -1\n",
    "\n",
    "def search_log(lista,num):\n",
    "    return BinarySearch(lista, 0, len(lista)-1, num)\n",
    "    pass\n",
    "\n",
    "def BinarySearch(arr, l, r, x):\n",
    "    # Base case \n",
    "    if r >= l: \n",
    "        mid = l + (r - l)//2\n",
    "        # If element is present at the middle itself \n",
    "        if arr[mid][0] == x: \n",
    "            return arr[mid][1] \n",
    "          \n",
    "        # If element is smaller than mid\n",
    "        elif arr[mid][0] > x: \n",
    "            return BinarySearch(arr, l, mid-1, x) \n",
    "        \n",
    "        # Else element is bigger than mid\n",
    "        else: \n",
    "            return BinarySearch(arr, mid+1, r, x) \n",
    "        \n",
    "    # Element is not present in the array    \n",
    "    else:\n",
    "        return -1"
   ]
  },
  {
   "cell_type": "code",
   "execution_count": null,
   "metadata": {},
   "outputs": [],
   "source": [
    "listin = [('Abdon', 938906293), ('Alejo', 935198770), ('Anna', 931621906), ('Arturo', 938806195), ('Baldomero', 930964092), ('Benjamin', 934354128), ('Cayetano', 931005100), ('Clotilde', 932242962), ('Eduardo', 934005954), ('Eugenio', 931748905), ('Fabian', 938021389), ('Fermin', 939101910), ('Fernando', 940649340), ('Guillermo', 934387595), ('Jacobo', 934210458), ('Josep', 940820109), ('Leonor', 930434129), ('Lucrecia', 934411771), ('Manuel', 933697107), ('Marcelino', 936305412), ('Mohamed', 930600723), ('Nicolas', 936020020), ('Oscar', 940094360), ('Petronila', 936016855), ('Reinaldo', 939455199), ('Rodrigo', 937957205), ('Ruben', 938853772), ('Simeon', 938687016), ('Simeon', 931726372), ('Tarsicio', 934346208), ('Victorino', 939555230)]\n",
    "print(search_log(listin,'Petronila')==936016855)\n",
    "print(search(listin,'Mohamed')==930600723)"
   ]
  },
  {
   "cell_type": "markdown",
   "metadata": {},
   "source": [
    "<div class=\"alert alert-success\">\n",
    "<h1>Extra 2</h1>\n",
    "<p><strong>\n",
    "Implementa el calculo de la serie de fibonacci para un número en concreto de forma recursiva y analiza su complejidad.\n",
    "</strong></p>\n",
    "</div>"
   ]
  },
  {
   "cell_type": "code",
   "execution_count": null,
   "metadata": {},
   "outputs": [],
   "source": [
    "def fiborec(n):\n",
    "    if n <= 1:\n",
    "        return n\n",
    "    return fiborec(n-1) + fiborec(n-2)\n",
    "fiborec(3)"
   ]
  },
  {
   "cell_type": "code",
   "execution_count": null,
   "metadata": {},
   "outputs": [],
   "source": [
    "''' \n",
    "    O(fiborec(a)) = 2^n\n",
    "    Θ(fiborec(a)) = 2^n\n",
    "    Ω(fiborec(a)) = 1\n",
    "'''"
   ]
  }
 ],
 "metadata": {
  "kernelspec": {
   "display_name": "Python 3",
   "language": "python",
   "name": "python3"
  },
  "language_info": {
   "codemirror_mode": {
    "name": "ipython",
    "version": 3
   },
   "file_extension": ".py",
   "mimetype": "text/x-python",
   "name": "python",
   "nbconvert_exporter": "python",
   "pygments_lexer": "ipython3",
   "version": "3.7.3"
  }
 },
 "nbformat": 4,
 "nbformat_minor": 1
}
