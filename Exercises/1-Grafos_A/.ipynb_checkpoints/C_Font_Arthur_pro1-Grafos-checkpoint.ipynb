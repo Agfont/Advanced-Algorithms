{
 "cells": [
  {
   "cell_type": "markdown",
   "metadata": {},
   "source": [
    "<div style=\"padding:30px; color: white; background-color: #0071CD\">\n",
    "<center>\n",
    "<img src=\"img/logoub.jpeg\">\n",
    "<center>\n",
    "<p>\n",
    "<h1>Algorítmica Avanzada</h1>\n",
    "<h2>Problemas 1.A - Grafos </h2>\n",
    "</center>\n",
    "</p>\n",
    "</div>"
   ]
  },
  {
   "cell_type": "markdown",
   "metadata": {},
   "source": [
    "## Atributos\n",
    "\n",
    "Un grafo está formado por dos elementos principales, vértices (Nodes) y aristas (Edges). \n",
    "\n",
    "Los elementos atómicos de un grafo son los vértices, representados gráficamente con puntos. En el siguiente ejemplo podemos observar cómo creamos un grafo con tres nodos con la función: `add_nodes_from`"
   ]
  },
  {
   "cell_type": "code",
   "execution_count": null,
   "metadata": {},
   "outputs": [],
   "source": [
    "%matplotlib inline\n",
    "import networkx as nx\n",
    "G = nx.Graph()\n",
    "G.add_nodes_from((1,2,3))\n",
    "nx.draw_circular(G, with_labels=True)"
   ]
  },
  {
   "cell_type": "markdown",
   "metadata": {},
   "source": [
    "El otro atributo principal de un __grafo__ son las aristas (edges), estas son las conexiones entre todos nuestros nodos. En el siguiente ejemplo de código podemos ver como añadimos los vértices que van de 1 a 2 y de 1 a 3 sobre el grafo con 3 nodos del ejemplo anterior.  "
   ]
  },
  {
   "cell_type": "code",
   "execution_count": null,
   "metadata": {},
   "outputs": [],
   "source": [
    "G.add_edges_from(((1,2), (1,3)))\n",
    "nx.draw_circular(G, with_labels=True)"
   ]
  },
  {
   "cell_type": "markdown",
   "metadata": {},
   "source": [
    "## Tipos de grafos\n",
    "\n",
    "Hay diferentes tipos de grafos en función de sus características, en esta introducción destacaremos tres tipos:\n",
    "\n",
    "- Grafos dirigidos\n",
    "- Grafos inconexos\n",
    "- Grafos regulares"
   ]
  },
  {
   "cell_type": "code",
   "execution_count": null,
   "metadata": {},
   "outputs": [],
   "source": [
    "# Grafo dirigido:\n",
    "# - Las aristas tienen dirección\n",
    "DG = nx.DiGraph()\n",
    "DG.add_edges_from(((1,3), (3,4), (2,3)))\n",
    "nx.draw_circular(DG, with_labels=True)"
   ]
  },
  {
   "cell_type": "code",
   "execution_count": null,
   "metadata": {},
   "outputs": [],
   "source": [
    "# Grafo inconexo no dirigido\n",
    "# - Partiendo de un nodo cualquiera no se puede llegar a recorrer todo el grafo\n",
    "UG = nx.Graph()\n",
    "UG.add_edges_from(((1,2), (1,3), (5,6)))\n",
    "nx.draw_circular(UG, with_labels=True)"
   ]
  },
  {
   "cell_type": "code",
   "execution_count": null,
   "metadata": {},
   "outputs": [],
   "source": [
    "# Grafo regular no dirigido\n",
    "# - Todos los nodos tienen el mismo grado\n",
    "UG = nx.Graph()\n",
    "UG.add_edges_from(((1,2), (1,4), (2,1), (2,3), (4,3)))\n",
    "nx.draw_circular(UG, with_labels=True)"
   ]
  },
  {
   "cell_type": "markdown",
   "metadata": {},
   "source": [
    "## Propiedades\n",
    "\n",
    "- __Orden__ de un grafo: El orden de un grafo es el número de vértices que contiene.\n",
    "- __Grado__ de un vértice: Número de aristas que conectan con un vértice (en el caso de grafos dirigidos hablaríamos de grado de entrada y de salida)."
   ]
  },
  {
   "cell_type": "markdown",
   "metadata": {},
   "source": [
    "<div class=\"alert alert-danger\">\n",
    "<h1>Ejercicio</h1>\n",
    "<p><strong>\n",
    "Con la información de la que disponemos, tenéis que crear un gráfo de orden 5 en el que el grado de todos y cada uno de los vértices sea 4.\n",
    "</strong></p>\n",
    "</div>"
   ]
  },
  {
   "cell_type": "code",
   "execution_count": null,
   "metadata": {},
   "outputs": [],
   "source": [
    "# Ejercicio 1\n",
    "import networkx as nx\n",
    "UG = nx.Graph()\n",
    "UG.add_edges_from(((1,2), (1,3), (1,4), (1,5), (2,3), (2,4), (2,5), (3,4), (3,5), (4,5)))\n",
    "nx.draw_circular(UG, with_labels=True)"
   ]
  },
  {
   "cell_type": "markdown",
   "metadata": {},
   "source": [
    "En el ejercicio anterior hemos dibujado lo que se llama un __grafo completo__. Este tipo de grafos se caracterizan porque todos los vértices están enlazados entre ellos."
   ]
  },
  {
   "cell_type": "markdown",
   "metadata": {
    "collapsed": true
   },
   "source": [
    "<div class=\"alert alert-warning\">\n",
    "<h1>Pregunta</h1>\n",
    "<p><strong>\n",
    "En un gráfo completo de orden 4, ¿cuántas aristas existen? ¿Y en un grafo completo de orden $n$?\n",
    "</strong></p>\n",
    "</div>"
   ]
  },
  {
   "cell_type": "code",
   "execution_count": null,
   "metadata": {},
   "outputs": [],
   "source": [
    "'''En un gráfo completo de orden 4 existen 6 aristas.\n",
    "    Nº aristas = n(n-1)/2\n",
    "'''"
   ]
  },
  {
   "cell_type": "markdown",
   "metadata": {},
   "source": []
  },
  {
   "cell_type": "markdown",
   "metadata": {},
   "source": [
    "# Algoritmos sobre grafos\n",
    "## Minimum Path"
   ]
  },
  {
   "cell_type": "markdown",
   "metadata": {},
   "source": [
    "\n",
    "<div class=\"alert alert-success\" style=\"width:90%; margin:0 auto;\">\n",
    "  <h2><p>0- Random Walk</p></h2>\n",
    "  \n",
    "  <p>\n",
    "  La implementación de un algoritmo de random walk es, en este caso, un poco ingenua, ya que la utilizaremos para encontrar un camino entre dos puntos (no hace falta que sea el más corto). \n",
    "  </p>\n",
    "  <p>\n",
    "  Para el desarrollo de este algoritmo lo único que necesitamos es un nodo inicial y un nodo final. En cada iteración del algoritmo iremos visitando un nodo aleatorio de entre todos los posibles vecinos. El parámetro `repeat` determinará si un nodo que ya ha sido visitado puede volver a ser visitado de nuevo.\n",
    "  </p>\n"
   ]
  },
  {
   "cell_type": "markdown",
   "metadata": {},
   "source": [
    "<div class=\"alert alert-danger\" style=\"width:80%; margin:0 auto; padding\">\n",
    "<center><p><h3> Código </h3></p> </center> \n",
    "\n",
    "<p>\n",
    "<h3>INPUT</h3>\n",
    "<ul>\n",
    "<li>__G__: Este es el grafo que utilizaremos para buscar el camino.</li>\n",
    "<li>__origen__: Este parámetro corresponde al índice de un nodo. En este caso deberá ser un entero (e.g. 231).</li>\n",
    "<li>__destino__: El índice del nodo al que queremos llegar. Igual que el origen, deberá ser un entero.</li>\n",
    "<li>__repeat__: Booleano indicando si nodos se pueden visitar mas de una vez o no.</li>\n",
    "</ul>\n",
    "<br>\n",
    "<h3>OUTPUT</h3>\n",
    "El output de una funcion es un diccionario que contiene los siguientes valores\n",
    "<ul>\n",
    "<li>__'path'__: Una lista de índices correspondientes al camino encontrado del nodo origen al nodo destino, incluyendo ambos.</li>\n",
    "<li>__'expanded'__: El número de nodos que se han visitado hasta encontrar el nodo destino.</li>\n",
    "<ul>\n",
    "\n",
    "</p>\n",
    "\n",
    "</div>"
   ]
  },
  {
   "cell_type": "code",
   "execution_count": 1,
   "metadata": {},
   "outputs": [],
   "source": [
    "import random\n",
    "def random_walk(G, origen, destino, repeat=False):\n",
    "    path = [origen]\n",
    "    expanded = 1\n",
    "    trobat = False\n",
    "    if (repeat):\n",
    "        while(not trobat):\n",
    "            indice = random.randint(origen, destino)\n",
    "            path.append(indice)\n",
    "            expanded += 1\n",
    "            if indice == destino:\n",
    "                trobat = True\n",
    "    else:\n",
    "        listNoRepeat = random.sample(range(0, len(G)),len(G))\n",
    "        indice = 0\n",
    "        while(not trobat):\n",
    "            indice +=1\n",
    "            path.append(listNoRepeat[indice])\n",
    "            expanded += 1\n",
    "            if listNoRepeat[indice] == destino:\n",
    "                trobat = True\n",
    "    return {\n",
    "        'path' : path,\n",
    "        'expanded' : expanded\n",
    "    }"
   ]
  },
  {
   "cell_type": "code",
   "execution_count": 2,
   "metadata": {},
   "outputs": [
    {
     "data": {
      "text/plain": [
       "{'path': [1,\n",
       "  21,\n",
       "  43,\n",
       "  50,\n",
       "  91,\n",
       "  84,\n",
       "  76,\n",
       "  33,\n",
       "  32,\n",
       "  26,\n",
       "  53,\n",
       "  77,\n",
       "  88,\n",
       "  73,\n",
       "  19,\n",
       "  99,\n",
       "  45,\n",
       "  10,\n",
       "  89,\n",
       "  57,\n",
       "  96,\n",
       "  35,\n",
       "  83,\n",
       "  97,\n",
       "  93,\n",
       "  28,\n",
       "  68,\n",
       "  42,\n",
       "  67,\n",
       "  58,\n",
       "  27,\n",
       "  23,\n",
       "  14,\n",
       "  11,\n",
       "  59,\n",
       "  78,\n",
       "  2,\n",
       "  69,\n",
       "  34,\n",
       "  6,\n",
       "  22,\n",
       "  49,\n",
       "  39,\n",
       "  13,\n",
       "  46,\n",
       "  64,\n",
       "  31,\n",
       "  44,\n",
       "  20,\n",
       "  82,\n",
       "  0,\n",
       "  3,\n",
       "  72,\n",
       "  37,\n",
       "  65,\n",
       "  62,\n",
       "  24,\n",
       "  80,\n",
       "  90,\n",
       "  94,\n",
       "  30,\n",
       "  79,\n",
       "  40,\n",
       "  9,\n",
       "  41,\n",
       "  18,\n",
       "  48,\n",
       "  25,\n",
       "  74,\n",
       "  47,\n",
       "  95],\n",
       " 'expanded': 71}"
      ]
     },
     "execution_count": 2,
     "metadata": {},
     "output_type": "execute_result"
    }
   ],
   "source": [
    "import networkx as nx\n",
    "# Prueba tu algoritmo\n",
    "G = nx.generators.barabasi_albert_graph(100, 2) # Genera un grafo aleatorio\n",
    "random_walk(G, 1, 95)                    # (con nodes de 0 a 99)"
   ]
  },
  {
   "cell_type": "markdown",
   "metadata": {},
   "source": [
    "<div class=\"alert alert-warning\">\n",
    "<h1>Pregunta</h1>\n",
    "<p><strong>\n",
    "¿Es posible encontrar siempre un camino?\n",
    "</strong></p>\n",
    "</div>"
   ]
  },
  {
   "cell_type": "code",
   "execution_count": 3,
   "metadata": {},
   "outputs": [
    {
     "data": {
      "text/plain": [
       "' Suponiendo que el grafo es conexo...\\n    En el caso que se puede repetir el nodo, sí, siempre és possible.\\n    En el caso que no se puede repetir el nodo, no se puede afirmar que siempre és possible.\\n    Por ejemplo, podemos llegar a un nodo de grado 1, luego no poderemos volver al nodo que\\n    acabamos de pasar.\\n    '"
      ]
     },
     "execution_count": 3,
     "metadata": {},
     "output_type": "execute_result"
    }
   ],
   "source": [
    "''' Suponiendo que el grafo es conexo...\n",
    "    En el caso que se puede repetir el nodo, sí, siempre és possible.\n",
    "    En el caso que no se puede repetir el nodo, no se puede afirmar que siempre és possible.\n",
    "    Por ejemplo, podemos llegar a un nodo de grado 1, luego no poderemos volver al nodo que\n",
    "    acabamos de pasar.\n",
    "    '''"
   ]
  },
  {
   "cell_type": "markdown",
   "metadata": {},
   "source": []
  },
  {
   "cell_type": "markdown",
   "metadata": {},
   "source": [
    "<div class=\"alert alert-warning\">\n",
    "<h1>Extra</h1>\n",
    "<p><strong>\n",
    "Modifica el algoritmo para ir dejando \"<i>migas de pan</i>\" en los nodos visitados, es decir, incrementa en uno un contador de veces visitado cada vez que se visita el nodo.\n",
    "</strong></p>\n",
    "</div>"
   ]
  },
  {
   "cell_type": "code",
   "execution_count": 4,
   "metadata": {},
   "outputs": [],
   "source": [
    "import random\n",
    "def random_walk(G, origen, destino, repeat=False):\n",
    "    path = [origen]\n",
    "    expanded = 1\n",
    "    trobat = False\n",
    "    if (repeat):\n",
    "        while(not trobat):\n",
    "            indice = random.randint(origen, destino)\n",
    "            path.append(indice)\n",
    "            expanded += 1\n",
    "            if indice == destino:\n",
    "                trobat = True\n",
    "    else:\n",
    "        listNoRepeat = random.sample(range(0, len(G)),len(G))\n",
    "        indice = 0\n",
    "        while(not trobat):\n",
    "            indice +=1\n",
    "            path.append(listNoRepeat[indice])\n",
    "            expanded += 1\n",
    "            if listNoRepeat[indice] == destino:\n",
    "                trobat = True\n",
    "    return {\n",
    "        'path' : path,\n",
    "        'expanded' : expanded\n",
    "    }"
   ]
  },
  {
   "cell_type": "code",
   "execution_count": 5,
   "metadata": {},
   "outputs": [
    {
     "data": {
      "text/plain": [
       "{'path': [1, 63, 68, 91, 65, 30, 95], 'expanded': 7}"
      ]
     },
     "execution_count": 5,
     "metadata": {},
     "output_type": "execute_result"
    }
   ],
   "source": [
    "random_walk(G, 1, 95,True)   "
   ]
  },
  {
   "cell_type": "markdown",
   "metadata": {},
   "source": [
    "\n",
    "<div class=\"alert alert-success\" style=\"width:90%; margin:0 auto;\">\n",
    "  <h2><p>1- Breadth First Search</p></h2>\n",
    "  \n",
    "  <p>\n",
    "  En este primer apartado se propone la implementación del algoritmo <i>Breadth First Search</i> visto en clase. Mediante este algoritmo pretendemos encontrar el camíno mínimo entre dos puntos del grafo.\n",
    "  </p>\n",
    "  <p>\n",
    "  Se pide una implementación iterativa del algoritmo, en la que mediante una cola realizemos una exploración expansiva. Es importante controlar que se trata de un grafo genérico, y no de un arbol, por lo que un mismo nodo nos lo podemos encontrar en varios niveles. En otras palabras, el grafo podría tener ciclos, controlad que cada nodo se visite una sola vez.\n",
    "  </p>\n",
    "  \n",
    "  <p>\n",
    "  <a href=\"https://en.wikipedia.org/wiki/Breadth-first_search\">Aquí</a> podeis encontrar mas detalles sobre la implementación y características de este algoritmo.\n",
    "  </p>\n"
   ]
  },
  {
   "cell_type": "markdown",
   "metadata": {},
   "source": [
    "<div class=\"alert alert-danger\" style=\"width:80%; margin:0 auto; padding\">\n",
    "<center><p><h3> Código </h3></p> </center> \n",
    "\n",
    "<p>\n",
    "<h3>INPUT</h3>\n",
    "<ul>\n",
    "<li>__G__: Este es el grafo que utilizaremos para buscar el camino.</li>\n",
    "<li>__origen__: Este parámetro corresponde al índice de un nodo. En este caso deberá ser un entero (e.g. 231).</li>\n",
    "<li>__destino__: El índice del nodo al que queremos llegar. Igual que el origen, deberá ser un entero.</li>\n",
    "</ul>\n",
    "<br>\n",
    "<h3>OUTPUT</h3>\n",
    "El output de una funcion es un diccionario que contiene los siguientes valores\n",
    "<ul>\n",
    "<li>__'path'__: Una lista de índices correspondientes al camino encontrado del nodo origen al nodo destino, incluyendo ambos.</li>\n",
    "<li>__'expanded'__: El número de nodos que se han visitado hasta encontrar el nodo destino.</li>\n",
    "<ul>\n",
    "\n",
    "</p>\n",
    "\n",
    "</div>"
   ]
  },
  {
   "cell_type": "code",
   "execution_count": 6,
   "metadata": {},
   "outputs": [],
   "source": [
    "from queue import Queue\n",
    "def bfs(G, origen, destino): \n",
    "    path = []\n",
    "    expanded = 0\n",
    "    queue = Queue()\n",
    "    queue.put(origen)\n",
    "    trobat = False\n",
    "    while (not queue.empty() and not trobat):\n",
    "        current = queue.get()\n",
    "        if current not in path:\n",
    "            path.append(current)\n",
    "            expanded += 1\n",
    "            if current == destino:\n",
    "                trobat = True\n",
    "            for i in G[current]:\n",
    "                queue.put(i) \n",
    "    return {\n",
    "        'path' : path,\n",
    "        'expanded' : expanded\n",
    "    }"
   ]
  },
  {
   "cell_type": "code",
   "execution_count": 7,
   "metadata": {},
   "outputs": [
    {
     "data": {
      "text/plain": [
       "{'path': [1,\n",
       "  2,\n",
       "  10,\n",
       "  46,\n",
       "  47,\n",
       "  55,\n",
       "  65,\n",
       "  82,\n",
       "  90,\n",
       "  0,\n",
       "  3,\n",
       "  4,\n",
       "  5,\n",
       "  7,\n",
       "  14,\n",
       "  15,\n",
       "  19,\n",
       "  24,\n",
       "  26,\n",
       "  31,\n",
       "  36,\n",
       "  40,\n",
       "  48,\n",
       "  59,\n",
       "  68,\n",
       "  37,\n",
       "  41,\n",
       "  44,\n",
       "  13,\n",
       "  54,\n",
       "  64,\n",
       "  84,\n",
       "  87,\n",
       "  71,\n",
       "  86,\n",
       "  6,\n",
       "  8,\n",
       "  16,\n",
       "  20,\n",
       "  29,\n",
       "  34,\n",
       "  45,\n",
       "  95],\n",
       " 'expanded': 43}"
      ]
     },
     "execution_count": 7,
     "metadata": {},
     "output_type": "execute_result"
    }
   ],
   "source": [
    "import networkx as nx\n",
    "# Prueba tu algoritmo\n",
    "G = nx.generators.barabasi_albert_graph(100, 2)\n",
    "bfs(G, 1, 95)"
   ]
  }
 ],
 "metadata": {
  "kernelspec": {
   "display_name": "Python 3",
   "language": "python",
   "name": "python3"
  },
  "language_info": {
   "codemirror_mode": {
    "name": "ipython",
    "version": 3
   },
   "file_extension": ".py",
   "mimetype": "text/x-python",
   "name": "python",
   "nbconvert_exporter": "python",
   "pygments_lexer": "ipython3",
   "version": "3.7.3"
  }
 },
 "nbformat": 4,
 "nbformat_minor": 2
}
