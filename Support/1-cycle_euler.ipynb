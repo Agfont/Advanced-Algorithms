{
 "cells": [
  {
   "cell_type": "markdown",
   "metadata": {},
   "source": [
    "<div style=\"padding:30px; color: white; background-color: #0071CD\">\n",
    "<center>\n",
    "<img src=\"img/logoub.jpeg\">\n",
    "<center>\n",
    "<p>\n",
    "<h1>Algorítmica Avanzada</h1>\n",
    "<h2>Problemas 1.C - Grafos </h2>\n",
    "</center>\n",
    "</p>\n",
    "</div>"
   ]
  },
  {
   "cell_type": "markdown",
   "metadata": {},
   "source": [
    "\n",
    "<div class=\"alert alert-success\" style=\"width:90%; margin:0 auto;\">\n",
    "  <h2><p>0 - Detección de ciclos</p></h2>\n",
    "  \n",
    "  <p>\n",
    "  En este ejercicio deberéis implementar un algoritmo capaz de detectar si un grafo cualquiera contiene ciclos.\n",
    "  </p>\n"
   ]
  },
  {
   "cell_type": "markdown",
   "metadata": {},
   "source": [
    "<div class=\"alert alert-danger\" style=\"width:80%; margin:0 auto; padding\">\n",
    "<center><p><h3> Código </h3></p> </center> \n",
    "\n",
    "<p>\n",
    "<h3>INPUT</h3>\n",
    "<ul>\n",
    "<li>__G__: Este es el grafo que utilizaremos para buscar ciclos.</li>\n",
    "</ul>\n",
    "<br>\n",
    "<h3>OUTPUT</h3>\n",
    "<ul>\n",
    "<li>__ _'TF'_ __: Booleano indicando si el grafo de entrada contiene algún ciclo.</li>\n",
    "<ul>\n",
    "\n",
    "</p>\n",
    "\n",
    "</div>"
   ]
  },
  {
   "cell_type": "code",
   "execution_count": 3,
   "metadata": {},
   "outputs": [],
   "source": [
    "def cycles(G):\n",
    "    TF = False\n",
    "    # Inicializamos los nodos como no visitados\n",
    "    startVisited(G)\n",
    "    for it in G.nodes(): \n",
    "        # Si un nodo no fue visitado, hacemos la recursividad sobre el\n",
    "        if G.node[it]['visited'] == False:  \n",
    "            if(cyclesRecursive(G, it, 0)): \n",
    "                # Si todos los nodos fueron visitados, tenemos un ciclo\n",
    "                TF = True\n",
    "    return TF\n",
    "\n",
    "def cyclesRecursive(G, it, parent):\n",
    "    G.node[it]['visited'] = True\n",
    "    for neighbor in G[it]:\n",
    "        # Para cada vecino que no haya sido visitado, aplicamos la recursividad sobre el\n",
    "        if  G.node[neighbor]['visited'] == False :\n",
    "            cyclesRecursive(G, neighbor, it)\n",
    "        # Si el nodo vecino ya fue visitado y es diferente del padre, encontramos un ciclo\n",
    "        elif parent != neighbor:\n",
    "            return True\n",
    "    return False\n",
    "\n",
    "def startVisited(G):\n",
    "    for i in G.nodes():\n",
    "        G.node[i]['visited'] = False"
   ]
  },
  {
   "cell_type": "code",
   "execution_count": 4,
   "metadata": {},
   "outputs": [
    {
     "data": {
      "text/plain": [
       "True"
      ]
     },
     "execution_count": 4,
     "metadata": {},
     "output_type": "execute_result"
    }
   ],
   "source": [
    "import networkx as nx\n",
    "G = nx.generators.barabasi_albert_graph(100, 2)\n",
    "cycles(G)"
   ]
  },
  {
   "cell_type": "markdown",
   "metadata": {},
   "source": [
    "<div class=\"alert alert-success\" style=\"width:90%; margin:0 auto;\">\n",
    "  <h2><p>1 - Circuito Euleriano</p></h2>\n",
    "  <p>\n",
    "  Se define como circuito euleriano aquel que pasa por todas las aristas de un grafo una única vez y que acaba en el mismo lugar en el que empieza. El problema de los caminos eulerianos fué la base de toda la teoría de grafos y fué postulado por Lehonard Euler en el famoso problema de __los siete puentes de Königsberg__. En este problema Euler se preguntaba si podía acabar en el mismo sitio tras cruzar todos los puentes una sola vez.\n",
    "  </p>\n",
    "  <img src=\"img/konigsberg.jpg\"></img>\n",
    "  <p>\n",
    "  En este ejercicio se os propone implementar un algoritmo que, dado un grafo _G_ encuentre un camino euleriano.\n",
    "  </p>"
   ]
  },
  {
   "cell_type": "markdown",
   "metadata": {},
   "source": [
    "<div class=\"alert alert-danger\" style=\"width:80%; margin:0 auto; padding\">\n",
    "<center><p><h3> Código </h3></p> </center> \n",
    "\n",
    "<p>\n",
    "<h3>INPUT</h3>\n",
    "<ul>\n",
    "<li>__G__: Objeto de tipo grafo sobre el cual queremos encontrar el circuito Euleriano.</li>\n",
    "</ul>\n",
    "<br>\n",
    "<h3>OUTPUT</h3>\n",
    "<ul>\n",
    "<li>__ _nodelist_ __: Una lista de nodos ordenados que formarían el circuito.</li>\n",
    "<ul>\n",
    "\n",
    "</p>\n",
    "\n",
    "</div>"
   ]
  },
  {
   "cell_type": "code",
   "execution_count": 5,
   "metadata": {},
   "outputs": [],
   "source": [
    "def euler(G):\n",
    "    list_Nodes = []\n",
    "    for node in G.nodes():\n",
    "        if G.degree[node] % 2 != 0:\n",
    "            return False\n",
    "        list_Nodes.append(node)\n",
    "    \n",
    "    path = []\n",
    "    stack = []\n",
    "    list_Edges = [edge for edge in G.edges()]\n",
    "    stack.append(random.choice(list_Nodes))\n",
    "    \n",
    "    while (list_Edges):\n",
    "        neighbors = [i for i in G.neighbors(stack[len(stack)-1])]\n",
    "        \n",
    "        if len(neighbors) == 0:\n",
    "            path.append(stack.pop())\n",
    "        \n",
    "        next_node = random.choice(neighbors)\n",
    "        G.remove_edge(stack[-1], next_node)\n",
    "        stack.append(next_node)\n",
    "        list_Edges = [i for i in G.edges()]\n",
    "        \n",
    "    while (stack):\n",
    "        part = stack.pop()\n",
    "        path.append(part)\n",
    "    path.reverse()\n",
    "    return path"
   ]
  },
  {
   "cell_type": "code",
   "execution_count": 6,
   "metadata": {},
   "outputs": [
    {
     "data": {
      "text/plain": [
       "False"
      ]
     },
     "execution_count": 6,
     "metadata": {},
     "output_type": "execute_result"
    }
   ],
   "source": [
    "G = nx.generators.barabasi_albert_graph(100, 2)\n",
    "euler(G)"
   ]
  },
  {
   "cell_type": "markdown",
   "metadata": {},
   "source": [
    "<div class=\"alert alert-warning\">\n",
    "<h1>Pregunta</h1>\n",
    "<p><strong>\n",
    "¿Qué condiciones se deben de cumplir para que un grafo cualquiera contenga un camino euleriano? Demuéstralo.\n",
    "</strong></p>\n",
    "</div>"
   ]
  },
  {
   "cell_type": "markdown",
   "metadata": {},
   "source": [
    "<div class=\"alert alert-warning\">\n",
    "<h1>Extra</h1>\n",
    "<p><strong>\n",
    "Además de circuitos Eulerianos, definimos caminos Eulerianos aquellos que recorren todas las aristas de un grafo sin repetirlas, pero no termina en el mismo nodo que empieza. Modifica el algoritmo anterior para que sea capaz de detectar si el grafo contiene un ciclo o un camino Euleriano, y devuelva la lista de nodos ordenados que componen dicho ciclo o camino. Tened en cuenta que son casos excluyentes.\n",
    "</strong></p>\n",
    "</div>"
   ]
  }
 ],
 "metadata": {
  "kernelspec": {
   "display_name": "Python 3",
   "language": "python",
   "name": "python3"
  },
  "language_info": {
   "codemirror_mode": {
    "name": "ipython",
    "version": 3
   },
   "file_extension": ".py",
   "mimetype": "text/x-python",
   "name": "python",
   "nbconvert_exporter": "python",
   "pygments_lexer": "ipython3",
   "version": "3.7.3"
  }
 },
 "nbformat": 4,
 "nbformat_minor": 2
}
