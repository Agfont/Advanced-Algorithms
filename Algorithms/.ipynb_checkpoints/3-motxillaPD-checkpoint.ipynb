{
 "cells": [
  {
   "cell_type": "markdown",
   "metadata": {},
   "source": [
    "<div style=\"padding:30px; color: white; background-color: #0071CD\">\n",
    "<center>\n",
    "<img src=\"img/logoub.jpeg\">\n",
    "<center>\n",
    "<p>\n",
    "<h1>Algorítmica Avanzada</h1>\n",
    "<h2>Problemas 3.A - Programación Dinámica </h2>\n",
    "</center>\n",
    "</p>\n",
    "</div>"
   ]
  },
  {
   "cell_type": "markdown",
   "metadata": {},
   "source": [
    "<div class=\"alert alert-danger\" style=\"width:95%; margin:0 auto; padding\">\n",
    "A la hora de crear las matrices de programación dinámica podéis emplear diversas estructuras de datos. A la hora de gestionar matrices, la lista de listas puede ser una buena opción, pero existen librerías como NumPy que hacen una mejor gestión de las matrices.\n",
    "\n",
    "Podéis consultar aquí la documentación: https://docs.scipy.org/doc/numpy/reference/"
   ]
  },
  {
   "cell_type": "markdown",
   "metadata": {},
   "source": [
    "<div class=\"alert alert-success\" style=\"width:90%; margin:0 auto;\">\n",
    "\n",
    "  <h2><p>1- El problema de la mochila</p></h2>\n",
    "  \n",
    "  <p> En esta primera sección trabajaremos con el problema de la mochila que ya vimos en los problemas de Greedy. Refrequemos un poco:\n",
    "</p>\n",
    "  <center><img src=\"img/knapsack.png\" width=30%></center>\n",
    "  \n",
    "  <p>\n",
    "    Nos encontramos en una habitación en la que hay $N$ objetos, cada cual con un peso $w_1, w_2, w_3 ... w_N$ y un valor $v_1, v_2, v_3 ... v_N$. Disponemos de una mochila que puede soportar una carga máxima de $W$.\n",
    "    Se busca conseguir llenar la mochila maximizando el valor total de la misma. Es decir queremos encontrar la combinación de objetos $b$ tal que $\\arg_{b} \\max{\\sum_{i=0}^{N}{v_i · b_i}}$ manteniendo siempre cierto que no superamos el peso máximo de la mochila: $\\sum_{i=0}^{N}{(w_i · b_i)}\\leq W$.\n",
    "     \n",
    "</p>\n",
    "  \n",
    "Trabajaremos tres variantes de este problema. En el primero, dispondremos solo de un objeto de cada tipo; en otro dispondremos de una cantidad ilimitada de objetos de cada tipo; finalmente, dispondremos de una cantidad limitada $c_1, c_2, c_3 ... c_N$ de cada objeto.\n"
   ]
  },
  {
   "cell_type": "code",
   "execution_count": null,
   "metadata": {},
   "outputs": [],
   "source": [
    "''' \n",
    "Implementa aquí la solución de PD que resuelve el problema de la mochila simple (sin cantidades)\n",
    "@input: Lista de listas con la forma [peso,valor] representando los objetos que podemos escoger.\n",
    "@output: Lista de listas con la forma [peso,valor] representando los objetos escogidos.\n",
    "'''\n",
    "import numpy as np\n",
    "\n",
    "def dynamic_knapsack(D, W):\n",
    "    # Guardamos el numero de objectos \n",
    "    num_Objects = len(D)\n",
    "    # Creamos la matrix N+1 x W+1\n",
    "    V = [[0 for i in range(W+1)] for j in range (num_Objects+1)]\n",
    "    keep = [[0 for i in range(W+1)] for j in range (num_Objects+1)]\n",
    "\n",
    "    for i in range(num_Objects+1):\n",
    "        for w in range(W+1):\n",
    "            wi = D[i-1][0]\n",
    "            if i == 0 or w == 0:\n",
    "                V[i][w] = 0\n",
    "            # If I have objects and they fit in the knapsack\n",
    "            elif wi <= w: # max(valor[i-1] + matriz[i-1][w-peso[i-1]])\n",
    "                vi = D[i-1][1]\n",
    "                v_prev = V[i-1][w - wi]\n",
    "                V[i][w] = max(vi + v_prev, V[i-1][w])\n",
    "                if (vi + v_prev >= V[i-1][w]):\n",
    "                    keep[i][w] = 1\n",
    "            else:\n",
    "                V[i][w] = V[i-1][w]\n",
    "        \n",
    "    picks = []\n",
    "    K = W\n",
    "\n",
    "    for j in range(num_Objects,0,-1):\n",
    "        if keep[j][K] == 1:\n",
    "            picks.append(j)\n",
    "            K -= D[j-1][0]\n",
    "\n",
    "    # picks.sort()\n",
    "    picks.reverse()\n",
    "    picks = [D[j-1] for j in picks] # change to 0-index\n",
    "    \n",
    "    print(\"Capacidad de la mochilla: \", W)\n",
    "    print(\"Mochila: \", end = '')\n",
    "    print(picks)\n",
    "    print(\"Valor: \", V[i][w])\n",
    "    return V\n",
    "\n",
    "\n",
    "''' \n",
    "Implementa aquí la solución de PD que resuelve el problema de la mochila con cantidad de objetos limitados\n",
    "@input: Lista de listas con la forma [peso,valor,cantidad] representando los objetos que podemos escoger.\n",
    "@output: Lista de listas con la forma [peso,valor,cantidad] representando los objetos escogidos.\n",
    "'''\n",
    "def dynamic_knapsac_quantities(D, W):\n",
    "    V = np.zeros((len(D)+1, max(D, key = lambda x: x[2])[2]+1, W+1))\n",
    "    P = dict()\n",
    "\n",
    "    for i in range(1, len(D)+1):\n",
    "        for c in range(0, D[i-1][2]+1):\n",
    "            for w in range(1, W+1):\n",
    "                # If no more objects or object is heavier than capacity\n",
    "                if c == 0 or D[i-1][0] > W:\n",
    "                    # Can't take de object\n",
    "                    V[i,c,w] = V[i-1, D[i-2][2], w]\n",
    "                    P[(i,w)] = (i-1, D[i-2][2], w)\n",
    "                # If I have objects and they fit in the knapsack\n",
    "                elif c > 0 and D[i-1][0] <= W:\n",
    "                    # Choose the maximum valor between taking the object and not\n",
    "                    choice, which = max((V[i-1, D[i-2][2], w], 0), (V[i, c-1,w - D[i-1][0]] + D[i-1][1], 1))\n",
    "                    V[i,w] = choice\n",
    "                    P[(i,w)] = (i, c-1, w - D[i-1][0]) if which else (i-1, D[i-2][2], w)\n",
    "                    \n",
    "    knapsack = dict()\n",
    "    O = [(D[i][0], D[i][1]) for i in range(len(D))]\n",
    "    \n",
    "    i,c,w = np.unravel_index(np.argmax(V), V.shape)\n",
    "    print(\"Max: \", np.max(V), \"found in\", i,\",\",w)\n",
    "    \n",
    "    while i != 0:\n",
    "        # If parent value is diferent, the object was taken\n",
    "        if P.get((i,c,w), None) and V[P[(i,c,w)]] != V[i,c,w]:\n",
    "            knapsack[O[i-1]] = knapsack.get(O[i-1], 0) + 1\n",
    "            \n",
    "        i,c,w = P.get((i,c,w), (0,0,0))\n",
    "\n",
    "    return knapsack\n",
    "\n",
    "''' \n",
    "Implementa aquí la solución de PD que resuelve el problema de la mochila con cantidad de objetos ilimitados\n",
    "@input: Lista de listas con la forma [peso,valor] representando los objetos que podemos escoger.\n",
    "@output: Lista de listas con la forma [peso,valor,cantidad] representando los objetos escogidos.\n",
    "'''\n",
    "def dynamic_kapsac_infinite(D, W):\n",
    "    pass"
   ]
  },
  {
   "cell_type": "code",
   "execution_count": 2,
   "metadata": {},
   "outputs": [
    {
     "name": "stdout",
     "output_type": "stream",
     "text": [
      "Objectos ->  [[42, 96], [3, 79], [23, 23], [47, 28], [9, 12], [15, 46], [7, 8], [30, 1], [20, 2], [10, 14]]\n",
      "Capacidad de la mochilla:  96\n",
      "Mochila: [[42, 96], [3, 79], [23, 23], [15, 46], [10, 14]]\n",
      "Valor:  258\n",
      "[[0, 0, 0, 0, 0, 0, 0, 0, 0, 0, 0, 0, 0, 0, 0, 0, 0, 0, 0, 0, 0, 0, 0, 0, 0, 0, 0, 0, 0, 0, 0, 0, 0, 0, 0, 0, 0, 0, 0, 0, 0, 0, 0, 0, 0, 0, 0, 0, 0, 0, 0, 0, 0, 0, 0, 0, 0, 0, 0, 0, 0, 0, 0, 0, 0, 0, 0, 0, 0, 0, 0, 0, 0, 0, 0, 0, 0, 0, 0, 0, 0, 0, 0, 0, 0, 0, 0, 0, 0, 0, 0, 0, 0, 0, 0, 0, 0], [0, 0, 0, 0, 0, 0, 0, 0, 0, 0, 0, 0, 0, 0, 0, 0, 0, 0, 0, 0, 0, 0, 0, 0, 0, 0, 0, 0, 0, 0, 0, 0, 0, 0, 0, 0, 0, 0, 0, 0, 0, 0, 96, 96, 96, 96, 96, 96, 96, 96, 96, 96, 96, 96, 96, 96, 96, 96, 96, 96, 96, 96, 96, 96, 96, 96, 96, 96, 96, 96, 96, 96, 96, 96, 96, 96, 96, 96, 96, 96, 96, 96, 96, 96, 96, 96, 96, 96, 96, 96, 96, 96, 96, 96, 96, 96, 96], [0, 0, 0, 79, 79, 79, 79, 79, 79, 79, 79, 79, 79, 79, 79, 79, 79, 79, 79, 79, 79, 79, 79, 79, 79, 79, 79, 79, 79, 79, 79, 79, 79, 79, 79, 79, 79, 79, 79, 79, 79, 79, 96, 96, 96, 175, 175, 175, 175, 175, 175, 175, 175, 175, 175, 175, 175, 175, 175, 175, 175, 175, 175, 175, 175, 175, 175, 175, 175, 175, 175, 175, 175, 175, 175, 175, 175, 175, 175, 175, 175, 175, 175, 175, 175, 175, 175, 175, 175, 175, 175, 175, 175, 175, 175, 175, 175], [0, 0, 0, 79, 79, 79, 79, 79, 79, 79, 79, 79, 79, 79, 79, 79, 79, 79, 79, 79, 79, 79, 79, 79, 79, 79, 102, 102, 102, 102, 102, 102, 102, 102, 102, 102, 102, 102, 102, 102, 102, 102, 102, 102, 102, 175, 175, 175, 175, 175, 175, 175, 175, 175, 175, 175, 175, 175, 175, 175, 175, 175, 175, 175, 175, 175, 175, 175, 198, 198, 198, 198, 198, 198, 198, 198, 198, 198, 198, 198, 198, 198, 198, 198, 198, 198, 198, 198, 198, 198, 198, 198, 198, 198, 198, 198, 198], [0, 0, 0, 79, 79, 79, 79, 79, 79, 79, 79, 79, 79, 79, 79, 79, 79, 79, 79, 79, 79, 79, 79, 79, 79, 79, 102, 102, 102, 102, 102, 102, 102, 102, 102, 102, 102, 102, 102, 102, 102, 102, 102, 102, 102, 175, 175, 175, 175, 175, 175, 175, 175, 175, 175, 175, 175, 175, 175, 175, 175, 175, 175, 175, 175, 175, 175, 175, 198, 198, 198, 198, 198, 198, 198, 198, 198, 198, 198, 198, 198, 198, 198, 198, 198, 198, 198, 198, 198, 198, 198, 198, 203, 203, 203, 203, 203], [0, 0, 0, 79, 79, 79, 79, 79, 79, 79, 79, 79, 91, 91, 91, 91, 91, 91, 91, 91, 91, 91, 91, 91, 91, 91, 102, 102, 102, 102, 102, 102, 102, 102, 102, 114, 114, 114, 114, 114, 114, 114, 114, 114, 114, 175, 175, 175, 175, 175, 175, 175, 175, 175, 187, 187, 187, 187, 187, 187, 187, 187, 187, 187, 187, 187, 187, 187, 198, 198, 198, 198, 198, 198, 198, 198, 198, 210, 210, 210, 210, 210, 210, 210, 210, 210, 210, 210, 210, 210, 210, 210, 210, 210, 210, 210, 210], [0, 0, 0, 79, 79, 79, 79, 79, 79, 79, 79, 79, 91, 91, 91, 91, 91, 91, 125, 125, 125, 125, 125, 125, 125, 125, 125, 137, 137, 137, 137, 137, 137, 137, 137, 137, 137, 137, 137, 137, 137, 148, 148, 148, 148, 175, 175, 175, 175, 175, 175, 175, 175, 175, 187, 187, 187, 187, 187, 187, 221, 221, 221, 221, 221, 221, 221, 221, 221, 233, 233, 233, 233, 233, 233, 233, 233, 233, 233, 233, 233, 233, 233, 244, 244, 244, 244, 244, 244, 244, 244, 244, 256, 256, 256, 256, 256], [0, 0, 0, 79, 79, 79, 79, 79, 79, 79, 87, 87, 91, 91, 91, 91, 91, 91, 125, 125, 125, 125, 125, 125, 125, 133, 133, 137, 137, 137, 137, 137, 137, 137, 145, 145, 145, 145, 145, 145, 145, 148, 148, 148, 148, 175, 175, 175, 175, 175, 175, 175, 183, 183, 187, 187, 187, 187, 187, 187, 221, 221, 221, 221, 221, 221, 221, 229, 229, 233, 233, 233, 233, 233, 233, 233, 241, 241, 241, 241, 241, 241, 241, 244, 244, 244, 244, 244, 244, 244, 252, 252, 256, 256, 256, 256, 256], [0, 0, 0, 79, 79, 79, 79, 79, 79, 79, 87, 87, 91, 91, 91, 91, 91, 91, 125, 125, 125, 125, 125, 125, 125, 133, 133, 137, 137, 137, 137, 137, 137, 137, 145, 145, 145, 145, 145, 145, 145, 148, 148, 148, 148, 175, 175, 175, 175, 175, 175, 175, 183, 183, 187, 187, 187, 187, 187, 187, 221, 221, 221, 221, 221, 221, 221, 229, 229, 233, 233, 233, 233, 233, 233, 233, 241, 241, 241, 241, 241, 241, 241, 244, 244, 244, 244, 244, 244, 244, 252, 252, 256, 256, 256, 256, 256], [0, 0, 0, 79, 79, 79, 79, 79, 79, 79, 87, 87, 91, 91, 91, 91, 91, 91, 125, 125, 125, 125, 125, 125, 125, 133, 133, 137, 137, 137, 137, 137, 137, 137, 145, 145, 145, 145, 145, 145, 145, 148, 148, 148, 148, 175, 175, 175, 175, 175, 175, 175, 183, 183, 187, 187, 187, 187, 187, 187, 221, 221, 221, 221, 221, 221, 221, 229, 229, 233, 233, 233, 233, 233, 233, 233, 241, 241, 241, 241, 241, 241, 241, 244, 244, 244, 244, 244, 244, 244, 252, 252, 256, 256, 256, 256, 256], [0, 0, 0, 79, 79, 79, 79, 79, 79, 79, 87, 87, 91, 93, 93, 93, 93, 93, 125, 125, 125, 125, 125, 125, 125, 133, 133, 137, 139, 139, 139, 139, 139, 139, 145, 147, 147, 151, 151, 151, 151, 151, 151, 151, 159, 175, 175, 175, 175, 175, 175, 175, 183, 183, 187, 189, 189, 189, 189, 189, 221, 221, 221, 221, 221, 221, 221, 229, 229, 233, 235, 235, 235, 235, 235, 235, 241, 243, 243, 247, 247, 247, 247, 247, 247, 247, 255, 255, 255, 255, 255, 255, 256, 258, 258, 258, 258]]\n",
      "------------------------------------------------------------------------\n"
     ]
    }
   ],
   "source": [
    "from utils import random_objects\n",
    "from random import randint\n",
    "# random_objects genera una lista de objetos, \n",
    "# cada uno representado como [peso,valor] o [peso,valor,cantidad].\n",
    "# Su único parámetro es un booleano opcional que indica si la \n",
    "# cantidad de objetos es finita (False) o infinita (True, por defecto)\n",
    "# Prueba tus algoritmos aquí.\n",
    "\n",
    "simple_bag = random_objects()\n",
    "print(\"Objectos -> \", simple_bag)\n",
    "W = randint(30,100) # Capacidad de la mochila\n",
    "\n",
    "print(dynamic_knapsack(simple_bag,W))\n",
    "#print(dynamic_knapsackProf(simple_bag, 10)) # --- mal\n",
    "\n",
    "print(\"------------------------------------------------------------------------\")\n",
    "#repeat_bag = random_objects(False)\n",
    "#print(repeat_bag)\n",
    "#print(dynamic_knapsac_quantities(repeat_bag, W))"
   ]
  },
  {
   "cell_type": "markdown",
   "metadata": {},
   "source": [
    "<div class=\"alert alert-warning\" style=\"width:80%; margin:0 auto; padding\">\n",
    "<center><p><h3> Cuestiones</h3></p> </center> </div>"
   ]
  },
  {
   "cell_type": "markdown",
   "metadata": {},
   "source": [
    "<ul>\n",
    "    <li>¿En qué casos se encuentra solución óptima al problema?</li>\n",
    "    <li>Explica las soluciones planteadas y analiza su complejidad. Comparalo con las implementaciones greedy.</li>\n",
    "</ul>"
   ]
  },
  {
   "cell_type": "markdown",
   "metadata": {},
   "source": [
    "__Escribe aquí tus respuestas__\n",
    "\n",
    "<h4> Pregunta 1 </h4>\n",
    "\n",
    "<h4> Pregunta 2 </h4>"
   ]
  },
  {
   "cell_type": "markdown",
   "metadata": {},
   "source": [
    "<div class=\"alert alert-success\" style=\"width:90%; margin:0 auto;\">\n",
    "\n",
    "  <h2><p>2 - Algoritmo Floyd-Warshall</p></h2>\n",
    "  \n",
    "  <p> El algoritmo Floyd-Warshall es un algoritmo de programación dinámica que se emplea para encontrar los caminos mínimos en un grafo con pesos (que no tenga ciclos negativos) entre todos los pares de nodos. Se basa en ir construyendo una matriz con caminos intermedios entre trios de nodos. Podéis ver más información y consultar el pseudocódigo <a href=\"https://es.wikipedia.org/wiki/Algoritmo_de_Floyd-Warshall\">aquí</a>.</p>\n"
   ]
  },
  {
   "cell_type": "code",
   "execution_count": 1,
   "metadata": {},
   "outputs": [],
   "source": [
    "''' \n",
    "Implementa aquí el algoritmo Floyd Warshall\n",
    "'''\n",
    "from networkx import nx\n",
    "def floyd_warshall(G):\n",
    "    # Cogemos el numero de nodos\n",
    "    V = G.number_of_nodes()\n",
    "    \n",
    "    # Inicializamos las variables\n",
    "    listEdges = G.edges()\n",
    "    infinity = 2**32\n",
    "    \n",
    "    # Inicializamos la matriz\n",
    "    dist = [[infinity for i in range (V)] for j in range(V)]\n",
    "    \n",
    "    # Ponemos la diagonal de la matriz a 0\n",
    "    for i in range(V):\n",
    "        dist[i][i] = 0\n",
    "        \n",
    "    # Atualizacion matriz con los pesos de la arista\n",
    "    for edge in G.edges():\n",
    "        dist[edge[0]][edge[1]] = G.edges[edge[0],edge[1]]['weight']\n",
    "        \n",
    "    # Floyd Warshall\n",
    "    # Para cada par de vertices\n",
    "    for k in range(V):\n",
    "        for i in range(V): \n",
    "            # Buscamos el camino mas corto\n",
    "            for j in range(V): \n",
    "                # Atualizamo la distancia si dist[i][j] > dist [i][k] + dist[k][j]\n",
    "                dist[i][j] = min(dist[i][j], \n",
    "                                 dist[i][k] + dist[k][j])\n",
    "                \n",
    "    return dist"
   ]
  },
  {
   "cell_type": "code",
   "execution_count": 2,
   "metadata": {},
   "outputs": [
    {
     "ename": "ModuleNotFoundError",
     "evalue": "No module named 'utils'",
     "output_type": "error",
     "traceback": [
      "\u001b[0;31m---------------------------------------------------------------------------\u001b[0m",
      "\u001b[0;31mModuleNotFoundError\u001b[0m                       Traceback (most recent call last)",
      "\u001b[0;32m<ipython-input-2-959d0cfe0197>\u001b[0m in \u001b[0;36m<module>\u001b[0;34m\u001b[0m\n\u001b[0;32m----> 1\u001b[0;31m \u001b[0;32mfrom\u001b[0m \u001b[0mutils\u001b[0m \u001b[0;32mimport\u001b[0m \u001b[0mrandom_graph\u001b[0m\u001b[0;34m,\u001b[0m \u001b[0mdraw_graph\u001b[0m\u001b[0;34m,\u001b[0m \u001b[0mdraw_path\u001b[0m\u001b[0;34m\u001b[0m\u001b[0;34m\u001b[0m\u001b[0m\n\u001b[0m\u001b[1;32m      2\u001b[0m \u001b[0;31m# random_graph(N,E) genera un grafo aleatorio con N vértices y E aristas.\u001b[0m\u001b[0;34m\u001b[0m\u001b[0;34m\u001b[0m\u001b[0;34m\u001b[0m\u001b[0m\n\u001b[1;32m      3\u001b[0m \u001b[0;31m#                   Podéis asumir que los ids de los nodos serán enteros del 0 a N-1\u001b[0m\u001b[0;34m\u001b[0m\u001b[0;34m\u001b[0m\u001b[0;34m\u001b[0m\u001b[0m\n\u001b[1;32m      4\u001b[0m \u001b[0;31m# draw_graph(G,s) dibuja el grafo G, el parámetro opcional s indica el tamaño del dibujo.\u001b[0m\u001b[0;34m\u001b[0m\u001b[0;34m\u001b[0m\u001b[0;34m\u001b[0m\u001b[0m\n\u001b[1;32m      5\u001b[0m \u001b[0;31m# draw_path(G,p,s) igual que draw_graph pero destacando las aristas que forman el path.\u001b[0m\u001b[0;34m\u001b[0m\u001b[0;34m\u001b[0m\u001b[0;34m\u001b[0m\u001b[0m\n",
      "\u001b[0;31mModuleNotFoundError\u001b[0m: No module named 'utils'"
     ]
    }
   ],
   "source": [
    "from utils import random_graph, draw_graph, draw_path\n",
    "# random_graph(N,E) genera un grafo aleatorio con N vértices y E aristas.\n",
    "#                   Podéis asumir que los ids de los nodos serán enteros del 0 a N-1\n",
    "# draw_graph(G,s) dibuja el grafo G, el parámetro opcional s indica el tamaño del dibujo.\n",
    "# draw_path(G,p,s) igual que draw_graph pero destacando las aristas que forman el path.\n",
    "\n",
    "# Prueba aquí tu algoritmo."
   ]
  },
  {
   "cell_type": "code",
   "execution_count": 3,
   "metadata": {},
   "outputs": [
    {
     "ename": "ModuleNotFoundError",
     "evalue": "No module named 'utils'",
     "output_type": "error",
     "traceback": [
      "\u001b[0;31m---------------------------------------------------------------------------\u001b[0m",
      "\u001b[0;31mModuleNotFoundError\u001b[0m                       Traceback (most recent call last)",
      "\u001b[0;32m<ipython-input-3-aa47c97ec966>\u001b[0m in \u001b[0;36m<module>\u001b[0;34m\u001b[0m\n\u001b[0;32m----> 1\u001b[0;31m \u001b[0;32mfrom\u001b[0m \u001b[0mutils\u001b[0m \u001b[0;32mimport\u001b[0m \u001b[0mrandom_graph\u001b[0m\u001b[0;34m,\u001b[0m \u001b[0mdraw_graph\u001b[0m\u001b[0;34m,\u001b[0m \u001b[0mdraw_path\u001b[0m\u001b[0;34m\u001b[0m\u001b[0;34m\u001b[0m\u001b[0m\n\u001b[0m\u001b[1;32m      2\u001b[0m \u001b[0mG\u001b[0m \u001b[0;34m=\u001b[0m \u001b[0mrandom_graph\u001b[0m\u001b[0;34m(\u001b[0m\u001b[0;36m10\u001b[0m\u001b[0;34m,\u001b[0m\u001b[0;36m17\u001b[0m\u001b[0;34m)\u001b[0m\u001b[0;34m\u001b[0m\u001b[0;34m\u001b[0m\u001b[0m\n\u001b[1;32m      3\u001b[0m \u001b[0mpath\u001b[0m \u001b[0;34m=\u001b[0m \u001b[0mfloyd_warshall\u001b[0m\u001b[0;34m(\u001b[0m\u001b[0mG\u001b[0m\u001b[0;34m)\u001b[0m\u001b[0;34m\u001b[0m\u001b[0;34m\u001b[0m\u001b[0m\n\u001b[1;32m      4\u001b[0m \u001b[0;34m\u001b[0m\u001b[0m\n\u001b[1;32m      5\u001b[0m \u001b[0mdraw_graph\u001b[0m\u001b[0;34m(\u001b[0m\u001b[0mG\u001b[0m\u001b[0;34m,\u001b[0m\u001b[0;36m10\u001b[0m\u001b[0;34m)\u001b[0m\u001b[0;34m\u001b[0m\u001b[0;34m\u001b[0m\u001b[0m\n",
      "\u001b[0;31mModuleNotFoundError\u001b[0m: No module named 'utils'"
     ]
    }
   ],
   "source": [
    "from utils import random_graph, draw_graph, draw_path\n",
    "G = random_graph(10,17)\n",
    "path = floyd_warshall(G)\n",
    "\n",
    "draw_graph(G,10)\n",
    "#draw_path(G,path,10)"
   ]
  },
  {
   "cell_type": "markdown",
   "metadata": {},
   "source": [
    "<div class=\"alert alert-warning\" style=\"width:80%; margin:0 auto; padding\">\n",
    "<center><p><h3> Cuestiones</h3></p> </center> </div>"
   ]
  },
  {
   "cell_type": "markdown",
   "metadata": {},
   "source": [
    "<ul>\n",
    "    <li>Analiza la complejidad del algoritmo.</li>\n",
    "</ul>"
   ]
  },
  {
   "cell_type": "code",
   "execution_count": null,
   "metadata": {},
   "outputs": [],
   "source": [
    "''' Suponiendo que V es el numero de vertices,\n",
    "Complejidad = O(V²) * O(V)\n",
    "                = O(V³)'''\n",
    "\n",
    "'''El algoritmo Floyd Wharshall tiene complejidad O(V³), \n",
    "porque el algoritmo calcula para cada par de vertices O(V²)\n",
    "el camino mas corto entre todo lo vértices O(V).'''"
   ]
  }
 ],
 "metadata": {
  "kernelspec": {
   "display_name": "Python 3",
   "language": "python",
   "name": "python3"
  },
  "language_info": {
   "codemirror_mode": {
    "name": "ipython",
    "version": 3
   },
   "file_extension": ".py",
   "mimetype": "text/x-python",
   "name": "python",
   "nbconvert_exporter": "python",
   "pygments_lexer": "ipython3",
   "version": "3.7.3"
  }
 },
 "nbformat": 4,
 "nbformat_minor": 2
}
